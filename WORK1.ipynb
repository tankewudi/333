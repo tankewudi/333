{
 "cells": [
  {
   "cell_type": "markdown",
   "id": "2fa28fa5-5273-439e-9777-4096e9903836",
   "metadata": {},
   "source": [
    "# 数据科学入门笔记本\n"
   ]
  },
  {
   "cell_type": "markdown",
   "id": "7fd500ec-2e7c-461c-8dad-94bac94314e6",
   "metadata": {},
   "source": [
    "## 引言\n",
    "\n",
    "本笔记本包含数据科学基础知识的概述，包括常用编程语言、库和工具。我们还将演示一些基本的Python代码示例。\n"
   ]
  },
  {
   "cell_type": "markdown",
   "id": "c1bbce9b-7a39-4160-aa6a-80a57b86cf19",
   "metadata": {},
   "source": [
    "## 数据科学常用语言\n",
    "\n",
    "1. Python\n",
    "2. R\n",
    "3. SQL\n",
    "4. Julia\n",
    "5. Scala\n"
   ]
  },
  {
   "cell_type": "markdown",
   "id": "dcc495cd-f671-4593-878a-3591ce5e13d1",
   "metadata": {},
   "source": [
    "## 数据科学常用库\n",
    "\n",
    "- **数据处理**: Pandas, NumPy\n",
    "- **可视化**: Matplotlib, Seaborn, Plotly\n",
    "- **机器学习**: Scikit-learn, TensorFlow, PyTorch\n",
    "- **统计分析**: Statsmodels, SciPy\n"
   ]
  },
  {
   "cell_type": "markdown",
   "id": "2f8d1e82-deb6-4c8a-b935-2b7bb08622d4",
   "metadata": {},
   "source": [
    "## 数据科学工具\n",
    "\n",
    "| 工具类型       | 工具名称                 | 用途                     |\n",
    "|----------------|--------------------------|--------------------------|\n",
    "| 开发环境       | Jupyter Notebook         | 交互式编程和文档         |\n",
    "| 版本控制       | Git, GitHub              | 代码管理和协作           |\n",
    "| 数据库         | MySQL, PostgreSQL        | 数据存储和查询           |\n",
    "| 大数据处理     | Hadoop, Spark            | 大规模数据处理           |\n"
   ]
  },
  {
   "cell_type": "markdown",
   "id": "beca19dd-cc99-490e-80f3-fc7eeeadf3ba",
   "metadata": {},
   "source": [
    "## 算术表达式示例\n",
    "\n",
    "下面是一些基本的算术表达式示例：\n"
   ]
  },
  {
   "cell_type": "code",
   "execution_count": 2,
   "id": "ef305646-4256-472d-9a4a-c8994bf696b8",
   "metadata": {},
   "outputs": [
    {
     "name": "stdout",
     "output_type": "stream",
     "text": [
      "乘法: 5 * 3 = 15\n",
      "加法: 5 + 3 = 8\n"
     ]
    }
   ],
   "source": [
    "# 乘法和加法示例\n",
    "a = 5\n",
    "b = 3\n",
    "print(f\"乘法: {a} * {b} = {a * b}\")\n",
    "print(f\"加法: {a} + {b} = {a + b}\")\n"
   ]
  },
  {
   "cell_type": "code",
   "execution_count": 3,
   "id": "51bea05f-0745-4121-8c15-640d650d198c",
   "metadata": {},
   "outputs": [
    {
     "name": "stdout",
     "output_type": "stream",
     "text": [
      "135分钟 = 2小时15分钟\n"
     ]
    }
   ],
   "source": [
    "# 将分钟转换为小时和剩余分钟\n",
    "minutes = 135\n",
    "hours = minutes // 60\n",
    "remaining_minutes = minutes % 60\n",
    "print(f\"{minutes}分钟 = {hours}小时{remaining_minutes}分钟\")\n"
   ]
  },
  {
   "cell_type": "markdown",
   "id": "ec176891-607c-4089-a8fa-e4fa06746633",
   "metadata": {},
   "source": [
    "## 学习目标\n",
    "\n",
    "1. 掌握数据科学基础概念\n",
    "2. 熟悉常用数据科学工具链\n",
    "3. 能够使用Python进行基本数据分析\n",
    "4. 了解机器学习基本流程\n",
    "5. 培养数据可视化能力\n"
   ]
  },
  {
   "cell_type": "markdown",
   "id": "122a7afd-22c3-4ce2-8bae-c885ab6672b1",
   "metadata": {},
   "source": [
    "## 作者信息\n",
    "\n",
    "**作者**: [边景轩]  \n",
    "\n"
   ]
  },
  {
   "cell_type": "code",
   "execution_count": null,
   "id": "699cfc68-5f93-4669-a3b5-05bf84746450",
   "metadata": {},
   "outputs": [],
   "source": []
  }
 ],
 "metadata": {
  "kernelspec": {
   "display_name": "Python 3 (ipykernel)",
   "language": "python",
   "name": "python3"
  },
  "language_info": {
   "codemirror_mode": {
    "name": "ipython",
    "version": 3
   },
   "file_extension": ".py",
   "mimetype": "text/x-python",
   "name": "python",
   "nbconvert_exporter": "python",
   "pygments_lexer": "ipython3",
   "version": "3.12.7"
  }
 },
 "nbformat": 4,
 "nbformat_minor": 5
}
